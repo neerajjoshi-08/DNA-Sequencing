{
 "cells": [
  {
   "cell_type": "code",
   "execution_count": 3,
   "metadata": {},
   "outputs": [
    {
     "name": "stderr",
     "output_type": "stream",
     "text": [
      "/Users/Tracy/anaconda3/lib/python3.5/site-packages/sklearn/cross_validation.py:41: DeprecationWarning: This module was deprecated in version 0.18 in favor of the model_selection module into which all the refactored classes and functions are moved. Also note that the interface of the new CV iterators are different from that of this module. This module will be removed in 0.20.\n",
      "  \"This module will be removed in 0.20.\", DeprecationWarning)\n"
     ]
    }
   ],
   "source": [
    "%matplotlib inline\n",
    "import numpy as np\n",
    "import pandas as pd\n",
    "import matplotlib.pyplot as plt\n",
    "import sklearn as sk\n",
    "from sklearn.cross_validation import train_test_split\n",
    "\n",
    "from tqdm import trange"
   ]
  },
  {
   "cell_type": "code",
   "execution_count": 4,
   "metadata": {},
   "outputs": [],
   "source": [
    "# Read in data\n",
    "df = pd.read_excel('BioCode for Machine Learning.xlsx')"
   ]
  },
  {
   "cell_type": "code",
   "execution_count": 6,
   "metadata": {},
   "outputs": [],
   "source": [
    "# Make array of arrays: zeorth axis: species, first axis: bases in sequence\n",
    "sequences = df['Aligned Sequence']\n",
    "sequences = np.array(sequences.fillna('None'))\n",
    "seq_arr = [np.array([i for i in s]) for s in sequences]"
   ]
  },
  {
   "cell_type": "code",
   "execution_count": 39,
   "metadata": {
    "collapsed": true
   },
   "outputs": [],
   "source": [
    "def calc_sim_mat(seq_array):\n",
    "    \n",
    "    num_species = len(seq_array)\n",
    "    sim_mat = -np.ones((num_species, num_species))\n",
    "    \n",
    "    %%time\n",
    "    for i in range(num_species):\n",
    "        if seq[i] != 'None':\n",
    "            a = seq_array[i]\n",
    "            for j in range(i):\n",
    "                if seq[j] != 'None':\n",
    "                    b = seq_array[j]\n",
    "                    match = (a==b)\n",
    "                    valid = ((a != '-') * (b != '-')) == 1\n",
    "                    sim_mat[i,j] = np.mean(match[valid])\n",
    "                    sim_mat[j,i] = sim_mat[i,j]\n",
    "            sim_mat[i,i] = 1\n",
    "    return sim_mat"
   ]
  },
  {
   "cell_type": "code",
   "execution_count": 43,
   "metadata": {},
   "outputs": [
    {
     "data": {
      "text/plain": [
       "4877"
      ]
     },
     "execution_count": 43,
     "metadata": {},
     "output_type": "execute_result"
    }
   ],
   "source": [
    "from multiprocessing import Pool\n",
    "pool = multiprocessing.Pool(processes=4)\n",
    "\n",
    "\n",
    "def match(seq_a, i):\n",
    "    seq_b = seq_array[j]\n",
    "    match = (seq_a==seq_b)\n",
    "    valid = ((seq_a != '-') * (seq_b != '-')) == 1\n",
    "    sim_mat[i,j] = np.mean(match[valid])\n",
    "    sim_mat[j,i] = sim_mat[i,j]\n",
    "    return sim_mat[j, i]\n",
    "    \n",
    "    "
   ]
  },
  {
   "cell_type": "code",
   "execution_count": null,
   "metadata": {
    "collapsed": true
   },
   "outputs": [],
   "source": [
    "def calc_sim_mat(seq_array):\n",
    "    \n",
    "    num_species = len(seq_array)\n",
    "    sim_mat = -np.ones((num_species, num_species))\n",
    "    \n",
    "    %%time\n",
    "    for i in range(num_species):\n",
    "        if seq[i] != 'None':\n",
    "            seq_a = seq_array[i]\n",
    "            sim_mat[j,i] = pool.mat(match()\n",
    "            for j in range(i):\n",
    "            seq_b = seq_array[j]\n",
    "            match = (seq_a==seq_b)\n",
    "            valid = ((seq_a != '-') * (seq_b != '-')) == 1\n",
    "            sim_mat[i,j] = np.mean(match[valid])\n",
    "            sim_mat[j,i] = sim_mat[i,j]\n",
    "        sim_mat[i,i] = 1 \n",
    "    return sim_mat"
   ]
  }
 ],
 "metadata": {
  "kernelspec": {
   "display_name": "Python 3",
   "language": "python",
   "name": "python3"
  },
  "language_info": {
   "codemirror_mode": {
    "name": "ipython",
    "version": 3
   },
   "file_extension": ".py",
   "mimetype": "text/x-python",
   "name": "python",
   "nbconvert_exporter": "python",
   "pygments_lexer": "ipython3",
   "version": "3.7.4"
  }
 },
 "nbformat": 4,
 "nbformat_minor": 2
}
