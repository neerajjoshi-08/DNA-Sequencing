{
 "cells": [
  {
   "cell_type": "code",
   "execution_count": 1,
   "metadata": {},
   "outputs": [
    {
     "name": "stderr",
     "output_type": "stream",
     "text": [
      "/usr/local/lib/python2.7/dist-packages/sklearn/cross_validation.py:41: DeprecationWarning: This module was deprecated in version 0.18 in favor of the model_selection module into which all the refactored classes and functions are moved. Also note that the interface of the new CV iterators are different from that of this module. This module will be removed in 0.20.\n",
      "  \"This module will be removed in 0.20.\", DeprecationWarning)\n"
     ]
    }
   ],
   "source": [
    "# import libraries\n",
    "%matplotlib inline\n",
    "import numpy as np\n",
    "import pandas as pd\n",
    "import matplotlib.pyplot as plt\n",
    "import scipy\n",
    "import sklearn as sk\n",
    "from __future__ import division\n",
    "from sklearn.cross_validation import train_test_split\n",
    "import math\n",
    "\n",
    "from tqdm import trange\n",
    "from sklearn.svm import SVC\n",
    "\n",
    "from matplotlib import animation"
   ]
  },
  {
   "cell_type": "code",
   "execution_count": 2,
   "metadata": {},
   "outputs": [],
   "source": [
    "# read the excel sheet \n",
    "df = pd.read_excel('./BioCode for Machine Learning Updated.xlsx')\n",
    "\n",
    "# Read in the labels\n",
    "cls = df['Classification']\n",
    "\n",
    "# Read the DNA sequences, which are strings comprised of the letters ATCG\n",
    "seq = df['Aligned Sequence']\n",
    "\n",
    "species = df['NCBI_Genus_species']\n",
    "\n",
    "order = df['NCBI_Order']"
   ]
  },
  {
   "cell_type": "code",
   "execution_count": 3,
   "metadata": {},
   "outputs": [
    {
     "name": "stdout",
     "output_type": "stream",
     "text": [
      "Unique species: 764\n",
      "Unique Aligned Sequences: 2984\n"
     ]
    }
   ],
   "source": [
    "print 'Unique species: '+ str(len(set(df['NCBI_Genus_species'])))\n",
    "\n",
    "print 'Unique Aligned Sequences: ' + str(len(set(df['Aligned Sequence'])))"
   ]
  },
  {
   "cell_type": "code",
   "execution_count": 4,
   "metadata": {},
   "outputs": [],
   "source": [
    "# Convert DNA data to numpy array, and convert NaNs to Nones\n",
    "seq = np.array(seq.fillna('None'))\n",
    "\n",
    "# Create a binary filter to eliminate invalid DNA sequences\n",
    "valid_idx = np.array([i for i in range(len(seq)) if seq[i] != 'None' and order[i] == 'Lepidoptera'])\n",
    "\n",
    "# Apply the filter\n",
    "valid_seq = seq[valid_idx]\n",
    "cls_valid = cls[valid_idx]\n",
    "cls_valid = np.array(cls_valid)\n",
    "species_valid = species[valid_idx]\n",
    "species_valid = np.array(species_valid)"
   ]
  },
  {
   "cell_type": "code",
   "execution_count": 5,
   "metadata": {},
   "outputs": [
    {
     "name": "stdout",
     "output_type": "stream",
     "text": [
      "(1443, 1443, 1443, 1443)\n"
     ]
    }
   ],
   "source": [
    "# Seperate string into individual characters\n",
    "seq_arrays = [np.array([i for i in s]) for s in valid_seq]\n",
    "\n",
    "mat_size = len(seq_arrays)\n",
    "\n",
    "print(len(valid_seq), len(cls_valid), mat_size, len(species_valid))"
   ]
  },
  {
   "cell_type": "code",
   "execution_count": 6,
   "metadata": {},
   "outputs": [],
   "source": [
    "for idx in range(len(seq_arrays)):\n",
    "    seq = seq_arrays[idx]\n",
    "    for seq_idx, item in enumerate(seq):\n",
    "        if item == 'A':\n",
    "            seq[seq_idx] = 0\n",
    "        elif item == 'C':\n",
    "            seq[seq_idx] = 1\n",
    "        elif item == 'G':\n",
    "            seq[seq_idx] = 2\n",
    "        elif item == 'T':\n",
    "            seq[seq_idx] = 3\n",
    "        else:\n",
    "            seq[seq_idx] = 4\n",
    "    try:\n",
    "        seq_arrays[idx] = seq_arrays[idx].astype('int8')\n",
    "    except:\n",
    "        print idx\n",
    "        break"
   ]
  },
  {
   "cell_type": "code",
   "execution_count": 6,
   "metadata": {},
   "outputs": [
    {
     "name": "stderr",
     "output_type": "stream",
     "text": [
      "100%|██████████| 1443/1443 [00:19<00:00, 74.96it/s] \n"
     ]
    }
   ],
   "source": [
    "sim_mat = -np.ones((mat_size, mat_size))\n",
    "\n",
    "# Precomputer no dashes\n",
    "dashes = []\n",
    "for i in range(mat_size):\n",
    "    dashes.append(seq_arrays[i] != '-')\n",
    "\n",
    "# this will take a few minutes\n",
    "for i in trange(mat_size):\n",
    "    # clean up bad data\n",
    "    a = seq_arrays[i]\n",
    "    # iterate over DNA sequences and figure out the match\n",
    "    for j in range(i):\n",
    "        b = seq_arrays[j]\n",
    "        match = (a==b)\n",
    "        valid = (dashes[i] * dashes[j])\n",
    "        sim_mat[i,j] = np.mean(match[valid])\n",
    "        sim_mat[j,i] = sim_mat[i,j]\n",
    "    sim_mat[i,i] = 1"
   ]
  },
  {
   "cell_type": "code",
   "execution_count": 8,
   "metadata": {},
   "outputs": [
    {
     "ename": "SyntaxError",
     "evalue": "invalid syntax (<ipython-input-8-5dfafe4f74f6>, line 8)",
     "output_type": "error",
     "traceback": [
      "\u001b[0;36m  File \u001b[0;32m\"<ipython-input-8-5dfafe4f74f6>\"\u001b[0;36m, line \u001b[0;32m8\u001b[0m\n\u001b[0;31m    def compare_strand()\u001b[0m\n\u001b[0m                        ^\u001b[0m\n\u001b[0;31mSyntaxError\u001b[0m\u001b[0;31m:\u001b[0m invalid syntax\n"
     ]
    }
   ],
   "source": [
    "sim_mat_p = -np.ones((mat_size, mat_size))\n",
    "\n",
    "# Precomputer no dashes\n",
    "dashes = []\n",
    "for i in range(mat_size):\n",
    "    dashes.append(seq_arrays[i] != 4)\n",
    "    \n",
    "def compare_strand()"
   ]
  },
  {
   "cell_type": "code",
   "execution_count": 9,
   "metadata": {},
   "outputs": [
    {
     "data": {
      "text/plain": [
       "<matplotlib.image.AxesImage at 0x7f2c01368f90>"
      ]
     },
     "execution_count": 9,
     "metadata": {},
     "output_type": "execute_result"
    },
    {
     "data": {
      "image/png": "[encoded data removed]",
      "text/plain": [
       "<matplotlib.figure.Figure at 0x7f2c0153ac10>"
      ]
     },
     "metadata": {},
     "output_type": "display_data"
    }
   ],
   "source": [
    "sim_mat = 1 - sim_mat\n",
    "plt.imshow(sim_mat, cmap=\"Greys\")"
   ]
  },
  {
   "cell_type": "code",
   "execution_count": 7,
   "metadata": {},
   "outputs": [
    {
     "data": {
      "text/plain": [
       "PCA(copy=True, iterated_power='auto', n_components=3, random_state=None,\n",
       "  svd_solver='auto', tol=0.0, whiten=False)"
      ]
     },
     "execution_count": 7,
     "metadata": {},
     "output_type": "execute_result"
    }
   ],
   "source": [
    "from sklearn.decomposition import PCA\n",
    "from mpl_toolkits.mplot3d import axes3d\n",
    "\n",
    "pca = PCA(n_components=3)\n",
    "pca.fit(sim_mat)"
   ]
  },
  {
   "cell_type": "code",
   "execution_count": 8,
   "metadata": {},
   "outputs": [
    {
     "data": {
      "image/png": "[encoded data removed]",
      "text/plain": [
       "<matplotlib.figure.Figure at 0x7f3e10520850>"
      ]
     },
     "metadata": {},
     "output_type": "display_data"
    }
   ],
   "source": [
    "plt.plot(pca.explained_variance_, linewidth=2)\n",
    "x_r = pca.transform(sim_mat)"
   ]
  },
  {
   "cell_type": "code",
   "execution_count": 9,
   "metadata": {},
   "outputs": [],
   "source": [
    "good = x_r[cls_valid == 'Indigenous']\n",
    "bad = x_r[np.logical_or(cls_valid == 'Introduced', cls_valid == 'Invasive')]"
   ]
  },
  {
   "cell_type": "code",
   "execution_count": 10,
   "metadata": {},
   "outputs": [
    {
     "data": {
      "text/plain": [
       "(188, 3)"
      ]
     },
     "execution_count": 10,
     "metadata": {},
     "output_type": "execute_result"
    }
   ],
   "source": [
    "good.shape"
   ]
  },
  {
   "cell_type": "code",
   "execution_count": 12,
   "metadata": {},
   "outputs": [
    {
     "name": "stderr",
     "output_type": "stream",
     "text": [
      "/usr/local/lib/python2.7/dist-packages/matplotlib/cbook.py:136: MatplotlibDeprecationWarning: The axisbg attribute was deprecated in version 2.0. Use facecolor instead.\n",
      "  warnings.warn(message, mplDeprecation, stacklevel=1)\n"
     ]
    },
    {
     "data": {
      "image/png": "[encoded data removed]",
      "text/plain": [
       "<matplotlib.figure.Figure at 0x7f3ddd794750>"
      ]
     },
     "metadata": {},
     "output_type": "display_data"
    }
   ],
   "source": [
    "if False:\n",
    "    #plt.scatter(x_r[:,0], x_r[:,1])\n",
    "    plt.scatter(good[:,0], good[:,1], c='g')\n",
    "    plt.scatter(bad[:,0], bad[:,1], c='r')\n",
    "\n",
    "# 3D\n",
    "if True:\n",
    "    fig = plt.figure()\n",
    "    ax = fig.add_subplot(1, 1, 1, axisbg=\"1.0\")\n",
    "    ax = fig.gca(projection='3d')\n",
    "    ax.scatter(good[:,0], good[:,1], good[:,2], c='g')\n",
    "    ax.scatter(bad[:,0], bad[:,1], bad[:,2], c='r')"
   ]
  },
  {
   "cell_type": "code",
   "execution_count": 14,
   "metadata": {},
   "outputs": [
    {
     "ename": "ImportError",
     "evalue": "Matplotlib qt-based backends require an external PyQt4, PyQt5,\nor PySide package to be installed, but it was not found.",
     "output_type": "error",
     "traceback": [
      "\u001b[0;31m---------------------------------------------------------------------------\u001b[0m",
      "\u001b[0;31mImportError\u001b[0m                               Traceback (most recent call last)",
      "\u001b[0;32m<ipython-input-14-040f64586c53>\u001b[0m in \u001b[0;36m<module>\u001b[0;34m()\u001b[0m\n\u001b[0;32m----> 1\u001b[0;31m \u001b[0mget_ipython\u001b[0m\u001b[0;34m(\u001b[0m\u001b[0;34m)\u001b[0m\u001b[0;34m.\u001b[0m\u001b[0mmagic\u001b[0m\u001b[0;34m(\u001b[0m\u001b[0;34mu'matplotlib'\u001b[0m\u001b[0;34m)\u001b[0m\u001b[0;34m\u001b[0m\u001b[0m\n\u001b[0m",
      "\u001b[0;32m/usr/local/lib/python2.7/dist-packages/IPython/core/interactiveshell.pyc\u001b[0m in \u001b[0;36mmagic\u001b[0;34m(self, arg_s)\u001b[0m\n\u001b[1;32m   2158\u001b[0m         \u001b[0mmagic_name\u001b[0m\u001b[0;34m,\u001b[0m \u001b[0m_\u001b[0m\u001b[0;34m,\u001b[0m \u001b[0mmagic_arg_s\u001b[0m \u001b[0;34m=\u001b[0m \u001b[0marg_s\u001b[0m\u001b[0;34m.\u001b[0m\u001b[0mpartition\u001b[0m\u001b[0;34m(\u001b[0m\u001b[0;34m' '\u001b[0m\u001b[0;34m)\u001b[0m\u001b[0;34m\u001b[0m\u001b[0m\n\u001b[1;32m   2159\u001b[0m         \u001b[0mmagic_name\u001b[0m \u001b[0;34m=\u001b[0m \u001b[0mmagic_name\u001b[0m\u001b[0;34m.\u001b[0m\u001b[0mlstrip\u001b[0m\u001b[0;34m(\u001b[0m\u001b[0mprefilter\u001b[0m\u001b[0;34m.\u001b[0m\u001b[0mESC_MAGIC\u001b[0m\u001b[0;34m)\u001b[0m\u001b[0;34m\u001b[0m\u001b[0m\n\u001b[0;32m-> 2160\u001b[0;31m         \u001b[0;32mreturn\u001b[0m \u001b[0mself\u001b[0m\u001b[0;34m.\u001b[0m\u001b[0mrun_line_magic\u001b[0m\u001b[0;34m(\u001b[0m\u001b[0mmagic_name\u001b[0m\u001b[0;34m,\u001b[0m \u001b[0mmagic_arg_s\u001b[0m\u001b[0;34m)\u001b[0m\u001b[0;34m\u001b[0m\u001b[0m\n\u001b[0m\u001b[1;32m   2161\u001b[0m \u001b[0;34m\u001b[0m\u001b[0m\n\u001b[1;32m   2162\u001b[0m     \u001b[0;31m#-------------------------------------------------------------------------\u001b[0m\u001b[0;34m\u001b[0m\u001b[0;34m\u001b[0m\u001b[0m\n",
      "\u001b[0;32m/usr/local/lib/python2.7/dist-packages/IPython/core/interactiveshell.pyc\u001b[0m in \u001b[0;36mrun_line_magic\u001b[0;34m(self, magic_name, line)\u001b[0m\n\u001b[1;32m   2079\u001b[0m                 \u001b[0mkwargs\u001b[0m\u001b[0;34m[\u001b[0m\u001b[0;34m'local_ns'\u001b[0m\u001b[0;34m]\u001b[0m \u001b[0;34m=\u001b[0m \u001b[0msys\u001b[0m\u001b[0;34m.\u001b[0m\u001b[0m_getframe\u001b[0m\u001b[0;34m(\u001b[0m\u001b[0mstack_depth\u001b[0m\u001b[0;34m)\u001b[0m\u001b[0;34m.\u001b[0m\u001b[0mf_locals\u001b[0m\u001b[0;34m\u001b[0m\u001b[0m\n\u001b[1;32m   2080\u001b[0m             \u001b[0;32mwith\u001b[0m \u001b[0mself\u001b[0m\u001b[0;34m.\u001b[0m\u001b[0mbuiltin_trap\u001b[0m\u001b[0;34m:\u001b[0m\u001b[0;34m\u001b[0m\u001b[0m\n\u001b[0;32m-> 2081\u001b[0;31m                 \u001b[0mresult\u001b[0m \u001b[0;34m=\u001b[0m \u001b[0mfn\u001b[0m\u001b[0;34m(\u001b[0m\u001b[0;34m*\u001b[0m\u001b[0margs\u001b[0m\u001b[0;34m,\u001b[0m\u001b[0;34m**\u001b[0m\u001b[0mkwargs\u001b[0m\u001b[0;34m)\u001b[0m\u001b[0;34m\u001b[0m\u001b[0m\n\u001b[0m\u001b[1;32m   2082\u001b[0m             \u001b[0;32mreturn\u001b[0m \u001b[0mresult\u001b[0m\u001b[0;34m\u001b[0m\u001b[0m\n\u001b[1;32m   2083\u001b[0m \u001b[0;34m\u001b[0m\u001b[0m\n",
      "\u001b[0;32m<decorator-gen-105>\u001b[0m in \u001b[0;36mmatplotlib\u001b[0;34m(self, line)\u001b[0m\n",
      "\u001b[0;32m/usr/local/lib/python2.7/dist-packages/IPython/core/magic.pyc\u001b[0m in \u001b[0;36m<lambda>\u001b[0;34m(f, *a, **k)\u001b[0m\n\u001b[1;32m    186\u001b[0m     \u001b[0;31m# but it's overkill for just that one bit of state.\u001b[0m\u001b[0;34m\u001b[0m\u001b[0;34m\u001b[0m\u001b[0m\n\u001b[1;32m    187\u001b[0m     \u001b[0;32mdef\u001b[0m \u001b[0mmagic_deco\u001b[0m\u001b[0;34m(\u001b[0m\u001b[0marg\u001b[0m\u001b[0;34m)\u001b[0m\u001b[0;34m:\u001b[0m\u001b[0;34m\u001b[0m\u001b[0m\n\u001b[0;32m--> 188\u001b[0;31m         \u001b[0mcall\u001b[0m \u001b[0;34m=\u001b[0m \u001b[0;32mlambda\u001b[0m \u001b[0mf\u001b[0m\u001b[0;34m,\u001b[0m \u001b[0;34m*\u001b[0m\u001b[0ma\u001b[0m\u001b[0;34m,\u001b[0m \u001b[0;34m**\u001b[0m\u001b[0mk\u001b[0m\u001b[0;34m:\u001b[0m \u001b[0mf\u001b[0m\u001b[0;34m(\u001b[0m\u001b[0;34m*\u001b[0m\u001b[0ma\u001b[0m\u001b[0;34m,\u001b[0m \u001b[0;34m**\u001b[0m\u001b[0mk\u001b[0m\u001b[0;34m)\u001b[0m\u001b[0;34m\u001b[0m\u001b[0m\n\u001b[0m\u001b[1;32m    189\u001b[0m \u001b[0;34m\u001b[0m\u001b[0m\n\u001b[1;32m    190\u001b[0m         \u001b[0;32mif\u001b[0m \u001b[0mcallable\u001b[0m\u001b[0;34m(\u001b[0m\u001b[0marg\u001b[0m\u001b[0;34m)\u001b[0m\u001b[0;34m:\u001b[0m\u001b[0;34m\u001b[0m\u001b[0m\n",
      "\u001b[0;32m/usr/local/lib/python2.7/dist-packages/IPython/core/magics/pylab.pyc\u001b[0m in \u001b[0;36mmatplotlib\u001b[0;34m(self, line)\u001b[0m\n\u001b[1;32m     98\u001b[0m             \u001b[0;32mprint\u001b[0m\u001b[0;34m(\u001b[0m\u001b[0;34m\"Available matplotlib backends: %s\"\u001b[0m \u001b[0;34m%\u001b[0m \u001b[0mbackends_list\u001b[0m\u001b[0;34m)\u001b[0m\u001b[0;34m\u001b[0m\u001b[0m\n\u001b[1;32m     99\u001b[0m         \u001b[0;32melse\u001b[0m\u001b[0;34m:\u001b[0m\u001b[0;34m\u001b[0m\u001b[0m\n\u001b[0;32m--> 100\u001b[0;31m             \u001b[0mgui\u001b[0m\u001b[0;34m,\u001b[0m \u001b[0mbackend\u001b[0m \u001b[0;34m=\u001b[0m \u001b[0mself\u001b[0m\u001b[0;34m.\u001b[0m\u001b[0mshell\u001b[0m\u001b[0;34m.\u001b[0m\u001b[0menable_matplotlib\u001b[0m\u001b[0;34m(\u001b[0m\u001b[0margs\u001b[0m\u001b[0;34m.\u001b[0m\u001b[0mgui\u001b[0m\u001b[0;34m)\u001b[0m\u001b[0;34m\u001b[0m\u001b[0m\n\u001b[0m\u001b[1;32m    101\u001b[0m             \u001b[0mself\u001b[0m\u001b[0;34m.\u001b[0m\u001b[0m_show_matplotlib_backend\u001b[0m\u001b[0;34m(\u001b[0m\u001b[0margs\u001b[0m\u001b[0;34m.\u001b[0m\u001b[0mgui\u001b[0m\u001b[0;34m,\u001b[0m \u001b[0mbackend\u001b[0m\u001b[0;34m)\u001b[0m\u001b[0;34m\u001b[0m\u001b[0m\n\u001b[1;32m    102\u001b[0m \u001b[0;34m\u001b[0m\u001b[0m\n",
      "\u001b[0;32m/usr/local/lib/python2.7/dist-packages/IPython/core/interactiveshell.pyc\u001b[0m in \u001b[0;36menable_matplotlib\u001b[0;34m(self, gui)\u001b[0m\n\u001b[1;32m   2948\u001b[0m                 \u001b[0mgui\u001b[0m\u001b[0;34m,\u001b[0m \u001b[0mbackend\u001b[0m \u001b[0;34m=\u001b[0m \u001b[0mpt\u001b[0m\u001b[0;34m.\u001b[0m\u001b[0mfind_gui_and_backend\u001b[0m\u001b[0;34m(\u001b[0m\u001b[0mself\u001b[0m\u001b[0;34m.\u001b[0m\u001b[0mpylab_gui_select\u001b[0m\u001b[0;34m)\u001b[0m\u001b[0;34m\u001b[0m\u001b[0m\n\u001b[1;32m   2949\u001b[0m \u001b[0;34m\u001b[0m\u001b[0m\n\u001b[0;32m-> 2950\u001b[0;31m         \u001b[0mpt\u001b[0m\u001b[0;34m.\u001b[0m\u001b[0mactivate_matplotlib\u001b[0m\u001b[0;34m(\u001b[0m\u001b[0mbackend\u001b[0m\u001b[0;34m)\u001b[0m\u001b[0;34m\u001b[0m\u001b[0m\n\u001b[0m\u001b[1;32m   2951\u001b[0m         \u001b[0mpt\u001b[0m\u001b[0;34m.\u001b[0m\u001b[0mconfigure_inline_support\u001b[0m\u001b[0;34m(\u001b[0m\u001b[0mself\u001b[0m\u001b[0;34m,\u001b[0m \u001b[0mbackend\u001b[0m\u001b[0;34m)\u001b[0m\u001b[0;34m\u001b[0m\u001b[0m\n\u001b[1;32m   2952\u001b[0m \u001b[0;34m\u001b[0m\u001b[0m\n",
      "\u001b[0;32m/usr/local/lib/python2.7/dist-packages/IPython/core/pylabtools.pyc\u001b[0m in \u001b[0;36mactivate_matplotlib\u001b[0;34m(backend)\u001b[0m\n\u001b[1;32m    307\u001b[0m \u001b[0;34m\u001b[0m\u001b[0m\n\u001b[1;32m    308\u001b[0m     \u001b[0;32mimport\u001b[0m \u001b[0mmatplotlib\u001b[0m\u001b[0;34m.\u001b[0m\u001b[0mpyplot\u001b[0m\u001b[0;34m\u001b[0m\u001b[0m\n\u001b[0;32m--> 309\u001b[0;31m     \u001b[0mmatplotlib\u001b[0m\u001b[0;34m.\u001b[0m\u001b[0mpyplot\u001b[0m\u001b[0;34m.\u001b[0m\u001b[0mswitch_backend\u001b[0m\u001b[0;34m(\u001b[0m\u001b[0mbackend\u001b[0m\u001b[0;34m)\u001b[0m\u001b[0;34m\u001b[0m\u001b[0m\n\u001b[0m\u001b[1;32m    310\u001b[0m \u001b[0;34m\u001b[0m\u001b[0m\n\u001b[1;32m    311\u001b[0m     \u001b[0;31m# This must be imported last in the matplotlib series, after\u001b[0m\u001b[0;34m\u001b[0m\u001b[0;34m\u001b[0m\u001b[0m\n",
      "\u001b[0;32m/usr/local/lib/python2.7/dist-packages/matplotlib/pyplot.pyc\u001b[0m in \u001b[0;36mswitch_backend\u001b[0;34m(newbackend)\u001b[0m\n\u001b[1;32m    231\u001b[0m     \u001b[0mmatplotlib\u001b[0m\u001b[0;34m.\u001b[0m\u001b[0muse\u001b[0m\u001b[0;34m(\u001b[0m\u001b[0mnewbackend\u001b[0m\u001b[0;34m,\u001b[0m \u001b[0mwarn\u001b[0m\u001b[0;34m=\u001b[0m\u001b[0mFalse\u001b[0m\u001b[0;34m,\u001b[0m \u001b[0mforce\u001b[0m\u001b[0;34m=\u001b[0m\u001b[0mTrue\u001b[0m\u001b[0;34m)\u001b[0m\u001b[0;34m\u001b[0m\u001b[0m\n\u001b[1;32m    232\u001b[0m     \u001b[0;32mfrom\u001b[0m \u001b[0mmatplotlib\u001b[0m\u001b[0;34m.\u001b[0m\u001b[0mbackends\u001b[0m \u001b[0;32mimport\u001b[0m \u001b[0mpylab_setup\u001b[0m\u001b[0;34m\u001b[0m\u001b[0m\n\u001b[0;32m--> 233\u001b[0;31m     \u001b[0m_backend_mod\u001b[0m\u001b[0;34m,\u001b[0m \u001b[0mnew_figure_manager\u001b[0m\u001b[0;34m,\u001b[0m \u001b[0mdraw_if_interactive\u001b[0m\u001b[0;34m,\u001b[0m \u001b[0m_show\u001b[0m \u001b[0;34m=\u001b[0m \u001b[0mpylab_setup\u001b[0m\u001b[0;34m(\u001b[0m\u001b[0;34m)\u001b[0m\u001b[0;34m\u001b[0m\u001b[0m\n\u001b[0m\u001b[1;32m    234\u001b[0m \u001b[0;34m\u001b[0m\u001b[0m\n\u001b[1;32m    235\u001b[0m \u001b[0;34m\u001b[0m\u001b[0m\n",
      "\u001b[0;32m/usr/local/lib/python2.7/dist-packages/matplotlib/backends/__init__.pyc\u001b[0m in \u001b[0;36mpylab_setup\u001b[0;34m()\u001b[0m\n\u001b[1;32m     30\u001b[0m     \u001b[0;31m# imports. 0 means only perform absolute imports.\u001b[0m\u001b[0;34m\u001b[0m\u001b[0;34m\u001b[0m\u001b[0m\n\u001b[1;32m     31\u001b[0m     backend_mod = __import__(backend_name,\n\u001b[0;32m---> 32\u001b[0;31m                              globals(),locals(),[backend_name],0)\n\u001b[0m\u001b[1;32m     33\u001b[0m \u001b[0;34m\u001b[0m\u001b[0m\n\u001b[1;32m     34\u001b[0m     \u001b[0;31m# Things we pull in from all backends\u001b[0m\u001b[0;34m\u001b[0m\u001b[0;34m\u001b[0m\u001b[0m\n",
      "\u001b[0;32m/usr/local/lib/python2.7/dist-packages/matplotlib/backends/backend_qt5agg.py\u001b[0m in \u001b[0;36m<module>\u001b[0;34m()\u001b[0m\n\u001b[1;32m     14\u001b[0m \u001b[0;34m\u001b[0m\u001b[0m\n\u001b[1;32m     15\u001b[0m \u001b[0;32mfrom\u001b[0m \u001b[0;34m.\u001b[0m\u001b[0mbackend_agg\u001b[0m \u001b[0;32mimport\u001b[0m \u001b[0mFigureCanvasAgg\u001b[0m\u001b[0;34m\u001b[0m\u001b[0m\n\u001b[0;32m---> 16\u001b[0;31m \u001b[0;32mfrom\u001b[0m \u001b[0;34m.\u001b[0m\u001b[0mbackend_qt5\u001b[0m \u001b[0;32mimport\u001b[0m \u001b[0mQtCore\u001b[0m\u001b[0;34m\u001b[0m\u001b[0m\n\u001b[0m\u001b[1;32m     17\u001b[0m \u001b[0;32mfrom\u001b[0m \u001b[0;34m.\u001b[0m\u001b[0mbackend_qt5\u001b[0m \u001b[0;32mimport\u001b[0m \u001b[0mQtGui\u001b[0m\u001b[0;34m\u001b[0m\u001b[0m\n\u001b[1;32m     18\u001b[0m \u001b[0;32mfrom\u001b[0m \u001b[0;34m.\u001b[0m\u001b[0mbackend_qt5\u001b[0m \u001b[0;32mimport\u001b[0m \u001b[0mFigureManagerQT\u001b[0m\u001b[0;34m\u001b[0m\u001b[0m\n",
      "\u001b[0;32m/usr/local/lib/python2.7/dist-packages/matplotlib/backends/backend_qt5.py\u001b[0m in \u001b[0;36m<module>\u001b[0;34m()\u001b[0m\n\u001b[1;32m     24\u001b[0m \u001b[0;34m\u001b[0m\u001b[0m\n\u001b[1;32m     25\u001b[0m \u001b[0;32mfrom\u001b[0m \u001b[0mmatplotlib\u001b[0m\u001b[0;34m.\u001b[0m\u001b[0mwidgets\u001b[0m \u001b[0;32mimport\u001b[0m \u001b[0mSubplotTool\u001b[0m\u001b[0;34m\u001b[0m\u001b[0m\n\u001b[0;32m---> 26\u001b[0;31m \u001b[0;32mimport\u001b[0m \u001b[0mmatplotlib\u001b[0m\u001b[0;34m.\u001b[0m\u001b[0mbackends\u001b[0m\u001b[0;34m.\u001b[0m\u001b[0mqt_editor\u001b[0m\u001b[0;34m.\u001b[0m\u001b[0mfigureoptions\u001b[0m \u001b[0;32mas\u001b[0m \u001b[0mfigureoptions\u001b[0m\u001b[0;34m\u001b[0m\u001b[0m\n\u001b[0m\u001b[1;32m     27\u001b[0m \u001b[0;34m\u001b[0m\u001b[0m\n\u001b[1;32m     28\u001b[0m from .qt_compat import (QtCore, QtGui, QtWidgets, _getSaveFileName,\n",
      "\u001b[0;32m/usr/local/lib/python2.7/dist-packages/matplotlib/backends/qt_editor/figureoptions.py\u001b[0m in \u001b[0;36m<module>\u001b[0;34m()\u001b[0m\n\u001b[1;32m     18\u001b[0m \u001b[0;32mimport\u001b[0m \u001b[0mmatplotlib\u001b[0m\u001b[0;34m\u001b[0m\u001b[0m\n\u001b[1;32m     19\u001b[0m \u001b[0;32mfrom\u001b[0m \u001b[0mmatplotlib\u001b[0m \u001b[0;32mimport\u001b[0m \u001b[0mcm\u001b[0m\u001b[0;34m,\u001b[0m \u001b[0mmarkers\u001b[0m\u001b[0;34m,\u001b[0m \u001b[0mcolors\u001b[0m \u001b[0;32mas\u001b[0m \u001b[0mmcolors\u001b[0m\u001b[0;34m\u001b[0m\u001b[0m\n\u001b[0;32m---> 20\u001b[0;31m \u001b[0;32mimport\u001b[0m \u001b[0mmatplotlib\u001b[0m\u001b[0;34m.\u001b[0m\u001b[0mbackends\u001b[0m\u001b[0;34m.\u001b[0m\u001b[0mqt_editor\u001b[0m\u001b[0;34m.\u001b[0m\u001b[0mformlayout\u001b[0m \u001b[0;32mas\u001b[0m \u001b[0mformlayout\u001b[0m\u001b[0;34m\u001b[0m\u001b[0m\n\u001b[0m\u001b[1;32m     21\u001b[0m \u001b[0;32mfrom\u001b[0m \u001b[0mmatplotlib\u001b[0m\u001b[0;34m.\u001b[0m\u001b[0mbackends\u001b[0m\u001b[0;34m.\u001b[0m\u001b[0mqt_compat\u001b[0m \u001b[0;32mimport\u001b[0m \u001b[0mQtGui\u001b[0m\u001b[0;34m\u001b[0m\u001b[0m\n\u001b[1;32m     22\u001b[0m \u001b[0;34m\u001b[0m\u001b[0m\n",
      "\u001b[0;32m/usr/local/lib/python2.7/dist-packages/matplotlib/backends/qt_editor/formlayout.py\u001b[0m in \u001b[0;36m<module>\u001b[0;34m()\u001b[0m\n\u001b[1;32m     54\u001b[0m \u001b[0;34m\u001b[0m\u001b[0m\n\u001b[1;32m     55\u001b[0m \u001b[0;32mfrom\u001b[0m \u001b[0mmatplotlib\u001b[0m \u001b[0;32mimport\u001b[0m \u001b[0mcolors\u001b[0m \u001b[0;32mas\u001b[0m \u001b[0mmcolors\u001b[0m\u001b[0;34m\u001b[0m\u001b[0m\n\u001b[0;32m---> 56\u001b[0;31m \u001b[0;32mfrom\u001b[0m \u001b[0mmatplotlib\u001b[0m\u001b[0;34m.\u001b[0m\u001b[0mbackends\u001b[0m\u001b[0;34m.\u001b[0m\u001b[0mqt_compat\u001b[0m \u001b[0;32mimport\u001b[0m \u001b[0mQtGui\u001b[0m\u001b[0;34m,\u001b[0m \u001b[0mQtWidgets\u001b[0m\u001b[0;34m,\u001b[0m \u001b[0mQtCore\u001b[0m\u001b[0;34m\u001b[0m\u001b[0m\n\u001b[0m\u001b[1;32m     57\u001b[0m \u001b[0;34m\u001b[0m\u001b[0m\n\u001b[1;32m     58\u001b[0m \u001b[0;34m\u001b[0m\u001b[0m\n",
      "\u001b[0;32m/usr/local/lib/python2.7/dist-packages/matplotlib/backends/qt_compat.py\u001b[0m in \u001b[0;36m<module>\u001b[0;34m()\u001b[0m\n\u001b[1;32m    177\u001b[0m     \u001b[0;32mexcept\u001b[0m \u001b[0mImportError\u001b[0m\u001b[0;34m:\u001b[0m\u001b[0;34m\u001b[0m\u001b[0m\n\u001b[1;32m    178\u001b[0m         raise ImportError(\n\u001b[0;32m--> 179\u001b[0;31m             \u001b[0;34m\"Matplotlib qt-based backends require an external PyQt4, PyQt5,\\n\"\u001b[0m\u001b[0;34m\u001b[0m\u001b[0m\n\u001b[0m\u001b[1;32m    180\u001b[0m             \"or PySide package to be installed, but it was not found.\")\n\u001b[1;32m    181\u001b[0m \u001b[0;34m\u001b[0m\u001b[0m\n",
      "\u001b[0;31mImportError\u001b[0m: Matplotlib qt-based backends require an external PyQt4, PyQt5,\nor PySide package to be installed, but it was not found."
     ]
    }
   ],
   "source": [
    "%matplotlib"
   ]
  },
  {
   "cell_type": "code",
   "execution_count": 104,
   "metadata": {},
   "outputs": [],
   "source": [
    "from sklearn.cluster import KMeans\n",
    "\n",
    "clstr = KMeans(n_clusters=750)\n",
    "clstr.fit(x_r[:4000])\n",
    "pred = clstr.predict(x_r[4000:])"
   ]
  },
  {
   "cell_type": "code",
   "execution_count": 107,
   "metadata": {},
   "outputs": [
    {
     "name": "stdout",
     "output_type": "stream",
     "text": [
      "[]\n",
      "(array([], dtype=object), array([], dtype=int64))\n",
      "223\n",
      "269\n",
      "0.828996282528\n",
      "[]\n",
      "(array([], dtype=object), array([], dtype=int64))\n",
      "235\n",
      "269\n",
      "0.873605947955\n",
      "[]\n",
      "(array([], dtype=object), array([], dtype=int64))\n",
      "220\n",
      "269\n",
      "0.817843866171\n",
      "[]\n",
      "(array([], dtype=object), array([], dtype=int64))\n",
      "227\n",
      "269\n",
      "0.843866171004\n",
      "[]\n",
      "(array([], dtype=object), array([], dtype=int64))\n",
      "224\n",
      "269\n",
      "0.832713754647\n",
      "[]\n",
      "(array([], dtype=object), array([], dtype=int64))\n",
      "220\n",
      "269\n",
      "0.817843866171\n",
      "[]\n",
      "(array([], dtype=object), array([], dtype=int64))\n",
      "230\n",
      "269\n",
      "0.855018587361\n",
      "[]\n",
      "(array([], dtype=object), array([], dtype=int64))\n",
      "225\n",
      "269\n",
      "0.836431226766\n",
      "[]\n",
      "(array([], dtype=object), array([], dtype=int64))\n",
      "234\n",
      "269\n",
      "0.869888475836\n",
      "[]\n",
      "(array([], dtype=object), array([], dtype=int64))\n",
      "227\n",
      "269\n",
      "0.843866171004\n",
      "[]\n",
      "(array([], dtype=object), array([], dtype=int64))\n",
      "228\n",
      "269\n",
      "0.847583643123\n",
      "[]\n",
      "(array([], dtype=object), array([], dtype=int64))\n",
      "224\n",
      "269\n",
      "0.832713754647\n",
      "[]\n",
      "(array([], dtype=object), array([], dtype=int64))\n",
      "223\n",
      "269\n",
      "0.828996282528\n",
      "[]\n",
      "(array([], dtype=object), array([], dtype=int64))\n",
      "232\n",
      "269\n",
      "0.862453531599\n",
      "[]\n",
      "(array([], dtype=object), array([], dtype=int64))\n",
      "222\n",
      "269\n",
      "0.825278810409\n",
      "[]\n",
      "(array([], dtype=object), array([], dtype=int64))\n",
      "225\n",
      "269\n",
      "0.836431226766\n",
      "[nan]\n",
      "(array([nan], dtype=object), array([1]))\n",
      "218\n",
      "269\n",
      "0.810408921933\n",
      "[]\n",
      "(array([], dtype=object), array([], dtype=int64))\n",
      "221\n",
      "269\n",
      "0.82156133829\n",
      "[]\n",
      "(array([], dtype=object), array([], dtype=int64))\n",
      "225\n",
      "269\n",
      "0.836431226766\n",
      "[]\n",
      "(array([], dtype=object), array([], dtype=int64))\n",
      "226\n",
      "269\n",
      "0.840148698885\n"
     ]
    }
   ],
   "source": [
    "import pandas as pd\n",
    "\n",
    "purities = []\n",
    "\n",
    "for k in range(650, 750, 5):\n",
    "\n",
    "    clstr = KMeans(n_clusters=750)\n",
    "    clstr.fit(x_r[:4000])\n",
    "    pred = clstr.predict(x_r[4000:])\n",
    "\n",
    "    # Calculate purity of clusters\n",
    "    clusters = set(pred)\n",
    "\n",
    "    print species_valid[4000 + np.where(pred == 272)[0]]\n",
    "    labels = species_valid[4000 + np.where(pred == 272)[0]]\n",
    "    print np.unique(labels, return_counts=True)\n",
    "\n",
    "    # Purity = \\sum max # correctly classified in cluster\n",
    "    tot = 0\n",
    "    for cluster_num in clusters:\n",
    "        labels = species_valid[4000 + np.where(pred == cluster_num)[0]]\n",
    "        # Drop nans\n",
    "        labels = labels[pd.isnull(labels) == False]\n",
    "\n",
    "        # If not all are nans\n",
    "        if len(labels) != 0:\n",
    "            _, counts = np.unique(labels, return_counts=True)\n",
    "            tot += np.max(counts)\n",
    "\n",
    "    print tot\n",
    "    # Total num objects = total objects - nans\n",
    "    print len(species_valid[4000:]) - np.sum(pd.isnull(species_valid[4000:]))\n",
    "    print tot / float(len(species_valid[4000:]) - np.sum(pd.isnull(species_valid[4000:])))\n",
    "    \n",
    "    purities.append(tot / float(len(species_valid[4000:]) - np.sum(pd.isnull(species_valid[4000:]))))"
   ]
  },
  {
   "cell_type": "code",
   "execution_count": 130,
   "metadata": {},
   "outputs": [],
   "source": [
    "# apply the filter over our features and labels\n",
    "# supervised_X = approx[labeled_cls]\n",
    "# full_supervised_X = valid_mat[labeled_cls]\n",
    "supervised_y = cls_valid[labeled_cls]\n",
    "supervised_y = (supervised_y == 'Indigenous').astype(int)"
   ]
  },
  {
   "cell_type": "code",
   "execution_count": 131,
   "metadata": {},
   "outputs": [],
   "source": [
    "unique = set()\n",
    "species_filter = []\n",
    "for i in species_valid:\n",
    "    if i not in unique:\n",
    "        species_filter.append(True)\n",
    "        unique.add(i)\n",
    "    else:\n",
    "        species_filter.append(False)"
   ]
  },
  {
   "cell_type": "code",
   "execution_count": 132,
   "metadata": {},
   "outputs": [],
   "source": [
    "# supervised_X = supervised_X[species_filter]\n",
    "# full_supervised_X = full_supervised_X[species_filter]\n",
    "supervised_y = supervised_y[species_filter]\n",
    "feats = feats[species_filter]"
   ]
  },
  {
   "cell_type": "code",
   "execution_count": 133,
   "metadata": {},
   "outputs": [
    {
     "name": "stdout",
     "output_type": "stream",
     "text": [
      "(231, 4)\n"
     ]
    }
   ],
   "source": [
    "print(feats.shape)\n",
    "test_train_ratio = 0.5\n",
    "feats_train, feats_test, y_train, y_test = train_test_split(feats, supervised_y, test_size=test_train_ratio)"
   ]
  },
  {
   "cell_type": "code",
   "execution_count": 134,
   "metadata": {},
   "outputs": [
    {
     "name": "stdout",
     "output_type": "stream",
     "text": [
      "(115, 4) (116, 4)\n"
     ]
    }
   ],
   "source": [
    "print(feats_train.shape, feats_test.shape)"
   ]
  },
  {
   "cell_type": "code",
   "execution_count": 136,
   "metadata": {},
   "outputs": [
    {
     "name": "stdout",
     "output_type": "stream",
     "text": [
      "0.189655172414\n"
     ]
    }
   ],
   "source": [
    "print(np.mean(y_test))"
   ]
  },
  {
   "cell_type": "code",
   "execution_count": 119,
   "metadata": {},
   "outputs": [
    {
     "name": "stdout",
     "output_type": "stream",
     "text": [
      "[0.190333333 0.029 0.0953 97.27333333]\n",
      "[0.149986667 0.002066667 0.0654 99.81609524]\n",
      "[0.149986667 0.002066667 0.0654 99.81609524]\n",
      "[0.149986667 0.002066667 0.0654 99.81609524]\n",
      "[0.149986667 0.002066667 0.0654 99.81609524]\n",
      "[0.203375 0.007833333 0.0974 99.502]\n",
      "[0.203375 0.007833333 0.0974 99.502]\n",
      "[0.24075 0.0 0.1393 99.79]\n",
      "[0.106125 0.003 0.0492 99.7975]\n",
      "[0.191454545 0.005581818 0.0823 99.70818182]\n",
      "[0.191454545 0.005581818 0.0823 99.70818182]\n",
      "[0.192 0.016 0.0904 98.46]\n",
      "[0.1525 0.002607143 0.0729 99.96678571]\n",
      "[0.178666667 0.002 0.0885 99.85]\n",
      "[0.178666667 0.014666667 0.0724 98.58]\n",
      "[0.189375 0.006694444 0.0972 99.96027778]\n",
      "[0.18784375 0.021642857 0.0674 99.16142857]\n",
      "[0.18784375 0.021642857 0.0674 99.16142857]\n",
      "[0.18784375 0.021642857 0.0674 99.16142857]\n",
      "[0.18784375 0.021642857 0.0674 99.16142857]\n",
      "[0.18784375 0.001 0.0948 99.925]\n",
      "[0.2128 0.0304 0.0863 96.928]\n",
      "[0.11325 0.019 0.0682 98.36]\n",
      "[0.214333333 0.002 0.1118 99.84666667]\n",
      "[0.21 0.008 0.1003 99.24]\n",
      "[0.2262 0.015 0.1039 99.634]\n",
      "[0.196 0.004666667 0.0901 99.66]\n",
      "[0.166166667 0.0376 0.0598 96.488]\n",
      "[0.094875 0.003 0.0477 99.7]\n",
      "[0.0975 0.002 0.0517 99.85]\n",
      "[0.0975 0.029 0.0272 97.11]\n",
      "[0.0975 0.029 0.0272 97.11]\n",
      "[0.1195 0.004 0.0578 99.63]\n",
      "[0.1135 0.001688889 0.055 99.91288889]\n",
      "[0.1135 0.001688889 0.055 99.91288889]\n",
      "[0.074 0.002 0.0326 100.0]\n",
      "[0.066666667 0.000866667 0.0279 99.92266667]\n",
      "[0.083166667 0.006666667 0.0435 99.42333333]\n",
      "[0.069545455 0.009818182 0.0313 99.06854545]\n",
      "[0.206277778 0.000666667 0.1191 100.0]\n",
      "[0.1885 0.0 0.0909 100.0]\n",
      "[0.1923125 0.003785714 0.0951 99.87285714]\n",
      "[0.093666667 0.002866667 0.0367 99.866]\n",
      "[0.114333333 0.000933333 0.0589 100.0]\n",
      "[0.159142857 0.009758242 0.0761 99.03736264]\n",
      "[0.130506494 0.001345455 0.0693 99.94654545]\n",
      "[0.11452381 0.003190476 0.0518 99.72857143]\n",
      "[0.095045455 0.006813853 0.0388 99.66385281]\n",
      "[0.0504 0.0 0.0214 100.0]\n",
      "[0.0504 0.0052 0.0258 99.915]\n",
      "[0.064365079 0.008428571 0.0291 99.31285714]\n",
      "[0.078 0.001 0.034 100.0]\n",
      "[0.074 0.019 0.0309 98.13]\n",
      "[0.115 0.001 0.0614 100.0]\n",
      "[0.1263125 0.003714286 0.0609 99.72714286]\n",
      "[0.148433333 0.011257143 0.0757 99.31933333]\n",
      "[0.1455 0.002333333 0.0709 99.79733333]\n",
      "[0.1128 0.001965517 0.0486 99.91590805]\n",
      "[0.138884615 0.000717949 0.0777 99.94397436]\n",
      "[0.046181818 0.024090909 0.0015 97.57890909]\n",
      "[0.046181818 0.024090909 0.0015 97.57890909]\n",
      "[0.13075 0.006833333 0.0692 99.46166667]\n",
      "[0.108083333 0.000333333 0.0477 99.975]\n",
      "[0.0915 0.002 0.0341 99.85]\n",
      "[0.175921053 0.003596491 0.0929 99.92380117]\n",
      "[0.178458333 0.004666667 0.0899 99.47333333]\n",
      "[0.15925 0.001924242 0.0899 100.0]\n",
      "[0.179888889 0.006333333 0.0946 99.34]\n",
      "[0.136666667 0.012 0.0712 99.59333333]\n",
      "[0.396 0.0 0.2482 100.0]\n",
      "[0.1955 0.011 0.101 98.78]\n",
      "[0.1955 0.011 0.101 98.78]\n",
      "[0.196148148 0.036478632 0.0627 99.08094017]\n",
      "[0.132 0.013 0.073 100.0]\n",
      "[0.097857143 0.08647619 0.0364 99.80952381]\n",
      "[0.101 0.07025 0.0278 99.81642857]\n",
      "[0.101 0.07025 0.0278 99.81642857]\n",
      "[0.099 0.0108 0.0396 98.908]\n",
      "[0.252 0.002 0.1195 99.85]\n",
      "[0.2025 0.0 0.1194 100.0]\n",
      "[0.284666667 0.008 0.1626 100.0]\n",
      "[0.188 0.0 0.0928 100.0]\n",
      "[0.226333333 0.038333333 0.1019 100.0]\n",
      "[0.186 0.0 0.0953 100.0]\n",
      "[0.189722222 0.002 0.0855 99.85]\n",
      "[0.242694444 0.0102 0.1169 99.94666667]\n",
      "[0.242694444 0.004466667 0.1175 99.596]\n",
      "[0.154 0.003 0.072 99.7]\n",
      "[0.248 0.07947619 0.0431 96.82904762]\n",
      "[0.383777778 0.071 0.1217 97.04472222]\n",
      "[0.351833333 0.065933333 0.1271 96.582]\n",
      "[0.140166667 0.0048 0.0493 99.54266667]\n",
      "[0.140166667 0.0048 0.0493 99.54266667]\n",
      "[0.05 0.002 0.0093 99.85]\n",
      "[0.35625 0.0015 0.254 100.0]\n",
      "[0.187272727 0.005077922 0.1019 99.80861472]\n",
      "[0.187272727 0.0 0.0793 100.0]\n",
      "[0.21225 0.010166667 0.1044 99.505]\n",
      "[0.143 0.0 0.0603 100.0]\n",
      "[0.06152381 0.008742857 0.1111 99.98490476]\n",
      "[0.193142857 0.018615385 0.0626 98.80373626]\n",
      "[0.218142857 0.025952381 0.0856 99.83095238]\n",
      "[0.218142857 0.025952381 0.0856 99.83095238]\n",
      "[0.218142857 0.025952381 0.0856 99.83095238]\n",
      "[0.202666667 0.010666667 0.0955 99.68666667]\n",
      "[0.218481481 0.006166667 0.11 100.0]\n",
      "[0.232111111 0.009666667 0.1182 99.50333333]\n",
      "[0.232111111 0.009666667 0.1182 99.50333333]\n",
      "[0.112 0.0 0.0515 100.0]\n",
      "[0.0935 0.023333333 0.0326 97.78666667]\n",
      "[0.181 0.0 0.0713 100.0]\n",
      "[0.177388889 0.001333333 0.0838 100.0]\n",
      "[0.2063125 0.0 0.102 100.0]\n",
      "[0.114 0.0 0.0491 100.0]\n",
      "[0.22425 0.003464286 0.1183 96.61571429]\n",
      "[0.0565 0.003 0.0262 99.84]\n",
      "[0.197357143 0.012619048 0.0973 99.96761905]\n",
      "[0.13356125 0.005610887 0.0532 99.98711694]\n",
      "[0.13356125 0.01687 0.0643 99.73]\n",
      "[0.139664773 0.015337662 0.0825 99.12593074]\n",
      "[0.139664773 0.0124 0.0318 99.13383333]\n",
      "[0.1148 0.0092 0.041 99.089]\n",
      "[0.209 0.0051 0.1152 99.952]\n",
      "[0.217666667 0.006666667 0.1177 99.90666667]\n",
      "[0.17825 0.0015 0.0946 100.0]\n",
      "[0.220142857 0.003904762 0.1084 99.97714286]\n",
      "[0.044615385 0.005820513 0.0115 99.74705128]\n",
      "[0.157384615 0.007576923 0.0903 99.97538462]\n",
      "[0.074090909 0.025818182 0.0226 99.058]\n",
      "[0.074090909 0.025818182 0.0226 99.058]\n",
      "[0.074090909 0.025818182 0.0226 99.058]\n",
      "[0.074090909 0.025818182 0.0226 99.058]\n",
      "[0.074090909 0.025818182 0.0226 99.058]\n",
      "[0.1361875 0.0057 0.0532 99.97608333]\n",
      "[0.042833333 0.003784314 0.0177 99.97836601]\n",
      "[0.07703125 0.001392857 0.0283 99.88214286]\n",
      "[0.04121875 0.005392857 0.0147 99.76285714]\n",
      "[0.098 0.0 0.0501 100.0]\n",
      "[0.103 0.0 0.0544 100.0]\n",
      "[0.0795 0.002 0.0355 100.0]\n",
      "[0.07544 0.0076 0.0359 99.879]\n",
      "[0.044388889 0.003 0.0236 99.66]\n",
      "[0.067 0.0 0.0284 100.0]\n",
      "[0.068857143 0.006666667 0.0337 100.0]\n",
      "[0.029 0.005238095 0.0098 99.71857143]\n",
      "[0.029 0.005238095 0.0098 99.71857143]\n",
      "[0.029 0.005238095 0.0098 99.71857143]\n",
      "[0.0838 0.003489474 0.0382 99.98736842]\n",
      "[0.094416667 0.001787879 0.0487 99.92909091]\n",
      "[0.092 0.0 0.0509 100.0]\n",
      "[0.111285714 0.012666667 0.0581 99.95]\n",
      "[0.046357143 0.011 0.0246 99.7]\n",
      "[0.046357143 0.011 0.0246 99.7]\n",
      "[0.123253968 0.005833333 0.0438 99.75472222]\n",
      "[0.123253968 0.005833333 0.0438 99.75472222]\n",
      "[0.123253968 0.005833333 0.0438 99.75472222]\n",
      "[0.034552632 0.00374269 0.0185 99.9902924]\n",
      "[0.133 0.008742424 0.0635 99.74409091]\n",
      "[0.148 0.0 0.0793 100.0]\n",
      "[0.068493056 0.0035 0.0355 99.66]\n",
      "[0.10125 0.003933333 0.0571 99.85733333]\n",
      "[0.099333333 0.005333333 0.0519 99.42]\n",
      "[0.0458 0.0078 0.0102 99.422]\n",
      "[0.047375 0.009666667 0.0173 99.81333333]\n",
      "[0.079025 0.001 0.0407 100.0]\n",
      "[0.078714286 0.006190476 0.0339 99.90571429]\n",
      "[0.0235 0.001 0.0143 100.0]\n",
      "[0.08 0.0025 0.0402 99.77333333]\n",
      "[0.109775 0.0069 0.0508 99.574]\n",
      "[0.151333333 0.006 0.0703 100.0]\n",
      "[0.068 0.0 0.0324 100.0]\n",
      "[0.066 0.006643275 0.0275 99.73719298]\n",
      "[0.066 0.006643275 0.0275 99.73719298]\n",
      "[0.084333333 0.001666667 0.0357 100.0]\n",
      "[0.152444444 0.0045 0.0849 99.91416667]\n",
      "[0.14025 0.008333333 0.0619 99.79]\n",
      "[0.096666667 0.020666667 0.0382 98.63]\n",
      "[0.05725 0.001333333 0.0315 100.0]\n",
      "[0.0723 0.004733333 0.0234 100.0]\n",
      "[0.07544 0.0112 0.0245 99.214]\n",
      "[0.07703125 0.010333333 0.0399 100.0]\n",
      "[0.1475 0.001 0.0893 100.0]\n",
      "[0.04121875 0.007666667 0.0167 100.0]\n",
      "[0.031 0.0 0.0151 100.0]\n",
      "[0.0885 0.004257576 0.0421 100.0]\n",
      "[0.09625 0.0012 0.0364 99.955]\n",
      "[0.0625 0.003 0.0305 100.0]\n",
      "[0.1326 0.0085 0.0688 100.0]\n",
      "[0.08425 0.0025 0.0416 100.0]\n",
      "[0.053714286 0.0 0.031 100.0]\n",
      "[0.128 0.0 0.0576 100.0]\n",
      "[0.065 0.0 0.0339 100.0]\n",
      "[0.139666667 0.001333333 0.0707 99.9]\n",
      "[0.1055 0.004866667 0.0643 99.788]\n",
      "[0.104388889 0.0 0.0558 100.0]\n",
      "[0.156222222 0.009378917 0.0787 99.89894587]\n",
      "[0.156222222 0.009378917 0.0787 99.89894587]\n",
      "[0.038277778 0.005666667 0.0116 99.48]\n",
      "[0.115444444 0.002805556 0.0601 99.7475]\n",
      "[0.115444444 0.002805556 0.0601 99.7475]\n",
      "[0.092692308 0.00974359 0.047 99.91551282]\n",
      "[0.095429688 0.007975 0.0439 99.93566667]\n",
      "[0.115307692 0.007076923 0.0374 99.70730769]\n",
      "[0.115307692 0.007076923 0.0374 99.70730769]\n",
      "[0.105166667 0.008866667 0.0517 99.944]\n",
      "[0.041066667 0.0096 0.0168 100.0]\n",
      "[0.169 0.012 0.0857 100.0]\n",
      "[0.087 0.0 0.0441 100.0]\n",
      "[0.10825 0.002636364 0.0487 99.78409091]\n",
      "[0.033111111 0.002 0.0072 99.64666667]\n",
      "[0.05625 0.009 0.024 100.0]\n",
      "[0.09625 0.007333333 0.0533 100.0]\n",
      "[0.0283 0.007666667 0.0128 100.0]\n",
      "[0.064716049 0.004810458 0.0286 99.98764706]\n",
      "[0.082111111 0.005066176 0.0417 100.0]\n",
      "[0.11 0.0 0.0449 100.0]\n",
      "[0.1105 0.00775 0.0561 99.9375]\n",
      "[0.033111111 0.007916667 0.0183 100.0]\n",
      "[0.034552632 0.009052381 0.0063 99.38626984]\n",
      "[0.153 0.014178571 0.0619 99.96785714]\n",
      "[0.130518519 0.003533333 0.0665 100.0]\n",
      "[0.112 0.0 0.0681 100.0]\n",
      "[0.086821429 0.00075 0.0361 100.0]\n",
      "[0.103222222 0.005638889 0.0517 99.42972222]\n",
      "[0.103222222 0.005638889 0.0517 99.42972222]\n",
      "[0.17775 0.003181818 0.0895 99.71757576]\n",
      "[0.1183 0.008155556 0.0366 99.75133333]\n",
      "[0.17775 0.0 0.083 100.0]\n",
      "[0.382 0.0067 0.251 99.507]\n",
      "[0.29325 0.015166667 0.1295 100.0]\n",
      "[0.300125 0.003 0.1585 100.0]\n"
     ]
    }
   ],
   "source": [
    "for i in range(len(feats)):\n",
    "    print(feats[i])"
   ]
  },
  {
   "cell_type": "code",
   "execution_count": 138,
   "metadata": {},
   "outputs": [
    {
     "name": "stdout",
     "output_type": "stream",
     "text": [
      "Prediciton accuracy: 0.810344827586\n",
      "Weights: [[-0.55984671  0.09872703 -0.33896843 -0.01750261]]\n"
     ]
    }
   ],
   "source": [
    "clf = sk.linear_model.LogisticRegression() # class_weight = {0:0.15, 1:0.85})\n",
    "clf.fit(feats_train, y_train)\n",
    "prediction = (clf.predict(feats_test) > 0.5)*1 #Threshold\n",
    "#Prediction accuracy\n",
    "print('Prediciton accuracy:', np.mean((prediction == np.array(y_test))*1))\n",
    "#Coefficients used by the classifier\n",
    "print(\"Weights:\", clf.coef_)"
   ]
  },
  {
   "cell_type": "code",
   "execution_count": 65,
   "metadata": {},
   "outputs": [],
   "source": [
    "from sklearn.model_selection import train_test_split as split\n",
    "\n",
    "one_hot = (cls_valid=='Indigenous').astype(int)\n",
    "one_hot = np.vstack((one_hot.T, 1 - one_hot.T)).T\n",
    "\n",
    "X_train, X_test, y_train, y_test = split(sim_mat, one_hot)"
   ]
  },
  {
   "cell_type": "code",
   "execution_count": 66,
   "metadata": {},
   "outputs": [],
   "source": [
    "# TRAIN TEST SPLIT\n",
    "from sklearn.cross_decomposition import CCA\n",
    "\n",
    "cca = CCA(n_components=2)\n",
    "cca.fit(X_train, y_train)\n",
    "\n",
    "tr_c, _ = cca.transform(X_train, y_train)\n",
    "tst_c, _ = cca.transform(X_test, y_test)"
   ]
  },
  {
   "cell_type": "code",
   "execution_count": 50,
   "metadata": {},
   "outputs": [],
   "source": [
    "# NO TRAIN TEST SPLIT\n",
    "\n",
    "cca = CCA(n_components=2)\n",
    "cca.fit(sim_mat, one_hot)\n",
    "\n",
    "tr_c, _ = cca.transform(sim_mat, one_hot)"
   ]
  },
  {
   "cell_type": "code",
   "execution_count": 41,
   "metadata": {},
   "outputs": [
    {
     "data": {
      "text/plain": [
       "array([0, 0, 1, ..., 0, 0, 0])"
      ]
     },
     "execution_count": 41,
     "metadata": {},
     "output_type": "execute_result"
    }
   ],
   "source": [
    "y_train[:, 0]"
   ]
  },
  {
   "cell_type": "code",
   "execution_count": 54,
   "metadata": {},
   "outputs": [
    {
     "data": {
      "image/png": "[encoded data removed]",
      "text/plain": [
       "<matplotlib.figure.Figure at 0x7f3ddd9b9790>"
      ]
     },
     "metadata": {},
     "output_type": "display_data"
    }
   ],
   "source": [
    "good = tr_c[y_train[:, 0]]\n",
    "bad = tr_c[1 - y_train[:, 0]]\n",
    "\n",
    "#good = tst_c[y_test[:, 0]]\n",
    "#bad = tst_c[1 - y_test[:, 0]]\n",
    "\n",
    "if True:\n",
    "    #plt.scatter(x_r[:,0], x_r[:,1])\n",
    "    plt.scatter(good[:,0], good[:,1], c='g')\n",
    "    plt.scatter(bad[:,0], bad[:,1], c='r')\n",
    "\n",
    "# 3D\n",
    "if False:\n",
    "    fig = plt.figure()\n",
    "    ax = fig.add_subplot(1, 1, 1, axisbg=\"1.0\")\n",
    "    ax = fig.gca(projection='3d')\n",
    "    ax.scatter(good[:,0], good[:,1], good[:,2], c='g')\n",
    "    ax.scatter(bad[:,0], bad[:,1], bad[:,2], c='r')"
   ]
  },
  {
   "cell_type": "code",
   "execution_count": 74,
   "metadata": {},
   "outputs": [
    {
     "name": "stdout",
     "output_type": "stream",
     "text": [
      "(array([  39.,    0.,    0.,    0.,    0.,    0.,    0.,    0.,    0.,  322.]), array([ 0.00503751,  0.00503751,  0.00503751,  0.00503751,  0.00503751,\n",
      "        0.00503751,  0.00503751,  0.00503751,  0.00503751,  0.00503751,\n",
      "        0.00503751]), <a list of 10 Patch objects>)\n",
      "(array([ 322.,    0.,    0.,    0.,    0.,    0.,    0.,    0.,    0.,   39.]), array([ 0.00503751,  0.00503751,  0.00503751,  0.00503751,  0.00503751,\n",
      "        0.00503751,  0.00503751,  0.00503751,  0.00503751,  0.00503751,\n",
      "        0.00503751]), <a list of 10 Patch objects>)\n"
     ]
    },
    {
     "data": {
      "image/png": "[encoded data removed]",
      "text/plain": [
       "<matplotlib.figure.Figure at 0x7f3ddcaf3c50>"
      ]
     },
     "metadata": {},
     "output_type": "display_data"
    }
   ],
   "source": [
    "good = tr_c[y_train[:, 0]]\n",
    "bad = tr_c[1 - y_train[:, 0]]\n",
    "\n",
    "good = tst_c[y_test[:, 0]]\n",
    "bad = tst_c[1 - y_test[:, 0]]\n",
    "\n",
    "print plt.hist(good[:, 0], color=(0,1,0,.1))\n",
    "print plt.hist(bad[:, 0], color=(1,0,0,.1))"
   ]
  },
  {
   "cell_type": "code",
   "execution_count": 69,
   "metadata": {},
   "outputs": [
    {
     "data": {
      "text/plain": [
       "(361, 2)"
      ]
     },
     "execution_count": 69,
     "metadata": {},
     "output_type": "execute_result"
    }
   ],
   "source": [
    "y_test.shape"
   ]
  },
  {
   "cell_type": "code",
   "execution_count": null,
   "metadata": {},
   "outputs": [],
   "source": []
  }
 ],
 "metadata": {
  "kernelspec": {
   "display_name": "Python 3",
   "language": "python",
   "name": "python3"
  },
  "language_info": {
   "codemirror_mode": {
    "name": "ipython",
    "version": 3
   },
   "file_extension": ".py",
   "mimetype": "text/x-python",
   "name": "python",
   "nbconvert_exporter": "python",
   "pygments_lexer": "ipython3",
   "version": "3.7.4"
  }
 },
 "nbformat": 4,
 "nbformat_minor": 2
}
